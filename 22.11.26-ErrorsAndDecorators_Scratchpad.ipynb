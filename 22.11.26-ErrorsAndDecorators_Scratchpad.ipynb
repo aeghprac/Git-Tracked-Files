{
 "cells": [
  {
   "cell_type": "code",
   "execution_count": 1,
   "id": "55680b94",
   "metadata": {},
   "outputs": [],
   "source": [
    "# def causeError():\n",
    "#     x = 1/0\n",
    "#     return x\n",
    "# causeError()\n",
    "# \n",
    "# ^ Unsurprisngly, this causes an error"
   ]
  },
  {
   "cell_type": "code",
   "execution_count": 6,
   "id": "384c50a2",
   "metadata": {},
   "outputs": [
    {
     "name": "stdout",
     "output_type": "stream",
     "text": [
      "This caused an error\n"
     ]
    }
   ],
   "source": [
    "def causeError():\n",
    "    \"\"\"Fake function to practice try/except\"\"\"\n",
    "    try:\n",
    "        x = 1/0\n",
    "    #This will 'catch' the error and print out the message\n",
    "    except:\n",
    "        print('This caused an error')\n",
    "        \n",
    "causeError()"
   ]
  },
  {
   "cell_type": "code",
   "execution_count": 8,
   "id": "a0ec5b86",
   "metadata": {},
   "outputs": [
    {
     "name": "stdout",
     "output_type": "stream",
     "text": [
      "apparently, you don't know how to code\n"
     ]
    },
    {
     "ename": "ZeroDivisionError",
     "evalue": "division by zero",
     "output_type": "error",
     "traceback": [
      "\u001b[0;31m---------------------------------------------------------------------------\u001b[0m",
      "\u001b[0;31mZeroDivisionError\u001b[0m                         Traceback (most recent call last)",
      "Input \u001b[0;32mIn [8]\u001b[0m, in \u001b[0;36mcauseErrorFinally\u001b[0;34m()\u001b[0m\n\u001b[1;32m      3\u001b[0m \u001b[38;5;28;01mtry\u001b[39;00m:\n\u001b[0;32m----> 4\u001b[0m     x \u001b[38;5;241m=\u001b[39m \u001b[38;5;241;43m1\u001b[39;49m\u001b[38;5;241;43m/\u001b[39;49m\u001b[38;5;241;43m0\u001b[39;49m\n\u001b[1;32m      5\u001b[0m \u001b[38;5;28;01mexcept\u001b[39;00m:\n",
      "\u001b[0;31mZeroDivisionError\u001b[0m: division by zero",
      "\nDuring handling of the above exception, another exception occurred:\n",
      "\u001b[0;31mZeroDivisionError\u001b[0m                         Traceback (most recent call last)",
      "Input \u001b[0;32mIn [8]\u001b[0m, in \u001b[0;36m<cell line: 10>\u001b[0;34m()\u001b[0m\n\u001b[1;32m      7\u001b[0m     \u001b[38;5;28;01mfinally\u001b[39;00m:\n\u001b[1;32m      8\u001b[0m         \u001b[38;5;28mprint\u001b[39m(\u001b[38;5;124m\"\u001b[39m\u001b[38;5;124mapparently, you don\u001b[39m\u001b[38;5;124m'\u001b[39m\u001b[38;5;124mt know how to code\u001b[39m\u001b[38;5;124m\"\u001b[39m)\n\u001b[0;32m---> 10\u001b[0m \u001b[43mcauseErrorFinally\u001b[49m\u001b[43m(\u001b[49m\u001b[43m)\u001b[49m\n",
      "Input \u001b[0;32mIn [8]\u001b[0m, in \u001b[0;36mcauseErrorFinally\u001b[0;34m()\u001b[0m\n\u001b[1;32m      4\u001b[0m     x \u001b[38;5;241m=\u001b[39m \u001b[38;5;241m1\u001b[39m\u001b[38;5;241m/\u001b[39m\u001b[38;5;241m0\u001b[39m\n\u001b[1;32m      5\u001b[0m \u001b[38;5;28;01mexcept\u001b[39;00m:\n\u001b[0;32m----> 6\u001b[0m     y \u001b[38;5;241m=\u001b[39m \u001b[38;5;241;43m1\u001b[39;49m\u001b[38;5;241;43m/\u001b[39;49m\u001b[38;5;241;43m0\u001b[39;49m\n\u001b[1;32m      7\u001b[0m \u001b[38;5;28;01mfinally\u001b[39;00m:\n\u001b[1;32m      8\u001b[0m     \u001b[38;5;28mprint\u001b[39m(\u001b[38;5;124m\"\u001b[39m\u001b[38;5;124mapparently, you don\u001b[39m\u001b[38;5;124m'\u001b[39m\u001b[38;5;124mt know how to code\u001b[39m\u001b[38;5;124m\"\u001b[39m)\n",
      "\u001b[0;31mZeroDivisionError\u001b[0m: division by zero"
     ]
    }
   ],
   "source": [
    "def causeErrorFinally():\n",
    "    \"\"\"Practice finally statement\"\"\"\n",
    "    try:\n",
    "        x = 1/0\n",
    "    except:\n",
    "        y = 1/0\n",
    "    # Trace both errors but print condescending insult\n",
    "    finally:\n",
    "        print(\"apparently, you don't know how to code\")\n",
    "\n",
    "causeErrorFinally()"
   ]
  },
  {
   "cell_type": "code",
   "execution_count": 11,
   "id": "9fad6b47",
   "metadata": {},
   "outputs": [
    {
     "name": "stdout",
     "output_type": "stream",
     "text": [
      "There was a type error\n"
     ]
    }
   ],
   "source": [
    "def causeError3():\n",
    "    try:\n",
    "        return 1 + \"a\"\n",
    "    \n",
    "    except TypeError:\n",
    "        print('There was a type error')\n",
    "    except ZeroDivisionError:\n",
    "        print('There was a zero division error')\n",
    "    except Exception:\n",
    "        print('There was some kind of exception')\n",
    "\n",
    "causeError3()"
   ]
  },
  {
   "cell_type": "markdown",
   "id": "ff7f4a6f",
   "metadata": {},
   "source": [
    "You can take all of those exception blocks and create a custom decorator out of them for re-use. Handy!"
   ]
  },
  {
   "cell_type": "code",
   "execution_count": 18,
   "id": "0130e87f",
   "metadata": {},
   "outputs": [
    {
     "name": "stdout",
     "output_type": "stream",
     "text": [
      "There was a zero division error\n"
     ]
    }
   ],
   "source": [
    "def handleException(func):\n",
    "    def wrapper():\n",
    "        try:\n",
    "            func()\n",
    "        except TypeError:\n",
    "            print('There was a type error')\n",
    "        except ZeroDivisionError:\n",
    "            print('There was a zero division error')\n",
    "        except Exception:\n",
    "            print('There was some kind of exception')\n",
    "    # Must include return wrapper or it doesn't work\n",
    "    return wrapper\n",
    "\n",
    "# Use custom decorator to encapsulate function\n",
    "@handleException \n",
    "def causeError4():\n",
    "    return 1/0\n",
    "\n",
    "# When called, this will automatically use the custom decorator from above\n",
    "causeError4()\n",
    "            "
   ]
  },
  {
   "cell_type": "code",
   "execution_count": null,
   "id": "cad54688",
   "metadata": {},
   "outputs": [],
   "source": []
  }
 ],
 "metadata": {
  "kernelspec": {
   "display_name": "Python 3 (ipykernel)",
   "language": "python",
   "name": "python3"
  },
  "language_info": {
   "codemirror_mode": {
    "name": "ipython",
    "version": 3
   },
   "file_extension": ".py",
   "mimetype": "text/x-python",
   "name": "python",
   "nbconvert_exporter": "python",
   "pygments_lexer": "ipython3",
   "version": "3.9.12"
  }
 },
 "nbformat": 4,
 "nbformat_minor": 5
}

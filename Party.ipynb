{
 "cells": [
  {
   "cell_type": "code",
   "execution_count": 1,
   "id": "f71931d4",
   "metadata": {},
   "outputs": [
    {
     "name": "stdout",
     "output_type": "stream",
     "text": [
      "Y'all\n",
      "gon\n",
      "make\n",
      "me\n",
      "lose\n",
      "my\n",
      "mind\n"
     ]
    }
   ],
   "source": [
    "ruff_ryders= [\"Y'all\", \"gon\", \"make\", \"me\", \"lose\", \"my\", \"mind\"]\n",
    "for dmx in ruff_ryders:\n",
    "    print(dmx)"
   ]
  },
  {
   "cell_type": "code",
   "execution_count": 2,
   "id": "74c5606c",
   "metadata": {},
   "outputs": [
    {
     "name": "stdout",
     "output_type": "stream",
     "text": [
      "up\n",
      "in\n",
      "here\n",
      "up\n",
      "in\n",
      "here\n"
     ]
    }
   ],
   "source": [
    "party = [\"up\", \"in\", \"here\"] * 2\n",
    "for fool in party:\n",
    "    print(fool)"
   ]
  },
  {
   "cell_type": "code",
   "execution_count": null,
   "id": "92f7ae67",
   "metadata": {},
   "outputs": [],
   "source": []
  }
 ],
 "metadata": {
  "kernelspec": {
   "display_name": "Python 3 (ipykernel)",
   "language": "python",
   "name": "python3"
  },
  "language_info": {
   "codemirror_mode": {
    "name": "ipython",
    "version": 3
   },
   "file_extension": ".py",
   "mimetype": "text/x-python",
   "name": "python",
   "nbconvert_exporter": "python",
   "pygments_lexer": "ipython3",
   "version": "3.9.15"
  }
 },
 "nbformat": 4,
 "nbformat_minor": 5
}

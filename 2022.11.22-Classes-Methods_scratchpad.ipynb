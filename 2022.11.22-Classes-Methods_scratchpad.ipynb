{
 "cells": [
  {
   "cell_type": "markdown",
   "id": "78c5ccc2",
   "metadata": {},
   "source": [
    "# Classes and Methods #"
   ]
  },
  {
   "cell_type": "code",
   "execution_count": 1,
   "id": "c1ae5ca7",
   "metadata": {},
   "outputs": [],
   "source": [
    "import math"
   ]
  },
  {
   "cell_type": "code",
   "execution_count": 6,
   "id": "f1344b87",
   "metadata": {},
   "outputs": [],
   "source": [
    "# Let's try to create that stupid class from the example files\n",
    "\n",
    "class Orientation: # Classes always capital letters\n",
    "    def __init__(self, x_pos, y_pos, degrees):\n",
    "        self.x_pos = x_pos\n",
    "        self.y_pos = y_pos\n",
    "        self.x_dir, self.y_dir = self.getUnitVectorFromDegrees(degrees) # This is a \"getter\" function. They always start with a lowercase get.\n",
    "        \n",
    "    def getUnitVectorFromDegrees(self, degrees): # Don't forget to put \"self\" in here when defining functions for the class - def funcName(self, paramenter)\n",
    "        radians = (degrees/180) * math.pi  # Gotta import the math library\n",
    "        return math.sin(radians), -math.cos(radians)\n",
    "    \n",
    "    def getNextPos(self): \n",
    "        return self.x_pos + self.x_dir, self.y_pos + self.y_dir # Can return two values like that!"
   ]
  },
  {
   "cell_type": "code",
   "execution_count": 7,
   "id": "fe2ac9f3",
   "metadata": {},
   "outputs": [
    {
     "data": {
      "text/plain": [
       "(5.965925826289069, 4.741180954897479)"
      ]
     },
     "execution_count": 7,
     "metadata": {},
     "output_type": "execute_result"
    }
   ],
   "source": [
    "myOrientation = Orientation(5, 5, 75)\n",
    "myOrientation.getNextPos()"
   ]
  },
  {
   "cell_type": "markdown",
   "id": "1b8640d8",
   "metadata": {},
   "source": [
    "Whoa, I feel really smart now!"
   ]
  },
  {
   "cell_type": "markdown",
   "id": "23f76f7d",
   "metadata": {},
   "source": [
    "### This code will not work :\n",
    "```\n",
    "class Orientation: \n",
    "    def __init__(self, x_pos, y_pos, degrees):\n",
    "        self.x_pos = x_pos\n",
    "        self.y_pos = y_pos\n",
    "        self.x_dir, self.y_dir = getUnitVectorFromDegrees(degrees)    #Because now we've removed self from both of these places\n",
    "        \n",
    "    def getUnitVectorFromDegrees(degrees): # And here too\n",
    "        radians = (degrees/180) * math.pi  \n",
    "        return math.sin(radians), -math.cos(radians)\n",
    "    \n",
    "    def getNextPos(self): \n",
    "        return self.x_pos + self.x_dir, self.y_pos + self.y_dir \n",
    "```"
   ]
  },
  {
   "cell_type": "code",
   "execution_count": null,
   "id": "4988b93f",
   "metadata": {},
   "outputs": [],
   "source": []
  }
 ],
 "metadata": {
  "kernelspec": {
   "display_name": "Python 3.9.15 ('base')",
   "language": "python",
   "name": "python3"
  },
  "language_info": {
   "codemirror_mode": {
    "name": "ipython",
    "version": 3
   },
   "file_extension": ".py",
   "mimetype": "text/x-python",
   "name": "python",
   "nbconvert_exporter": "python",
   "pygments_lexer": "ipython3",
   "version": "3.9.15"
  },
  "vscode": {
   "interpreter": {
    "hash": "a345a3a79d4b6bd5e480ddf750d44eeab3f426a0af8a6d1a3c614a22f4e377a2"
   }
  }
 },
 "nbformat": 4,
 "nbformat_minor": 5
}

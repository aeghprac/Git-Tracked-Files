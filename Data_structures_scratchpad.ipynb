{
 "cells": [
  {
   "cell_type": "code",
   "execution_count": 1,
   "id": "54496e41",
   "metadata": {},
   "outputs": [],
   "source": [
    "myList = list(range(10)) #uses range function and list to create a list"
   ]
  },
  {
   "cell_type": "code",
   "execution_count": 2,
   "id": "520da3df",
   "metadata": {},
   "outputs": [
    {
     "name": "stdout",
     "output_type": "stream",
     "text": [
      "[0, 1, 2, 3, 4, 5, 6, 7, 8, 9]\n"
     ]
    }
   ],
   "source": [
    "print(myList)"
   ]
  },
  {
   "cell_type": "code",
   "execution_count": 3,
   "id": "1a7a09ad",
   "metadata": {},
   "outputs": [
    {
     "data": {
      "text/plain": [
       "[0, 2, 4, 6, 8]"
      ]
     },
     "execution_count": 3,
     "metadata": {},
     "output_type": "execute_result"
    }
   ],
   "source": [
    "myList[::2] #returns every other number"
   ]
  },
  {
   "cell_type": "code",
   "execution_count": 4,
   "id": "1061bfda",
   "metadata": {},
   "outputs": [
    {
     "data": {
      "text/plain": [
       "[9, 7, 5, 3, 1]"
      ]
     },
     "execution_count": 4,
     "metadata": {},
     "output_type": "execute_result"
    }
   ],
   "source": [
    "myList[::-2] #goes backwards with negative number, but starts at second to last element"
   ]
  },
  {
   "cell_type": "code",
   "execution_count": 14,
   "id": "9c55e938",
   "metadata": {},
   "outputs": [
    {
     "ename": "TypeError",
     "evalue": "descriptor 'append' for 'list' objects doesn't apply to a 'range' object",
     "output_type": "error",
     "traceback": [
      "\u001b[0;31m---------------------------------------------------------------------------\u001b[0m",
      "\u001b[0;31mTypeError\u001b[0m                                 Traceback (most recent call last)",
      "Input \u001b[0;32mIn [14]\u001b[0m, in \u001b[0;36m<cell line: 1>\u001b[0;34m()\u001b[0m\n\u001b[0;32m----> 1\u001b[0m myList \u001b[38;5;241m=\u001b[39m \u001b[38;5;28;43mlist\u001b[39;49m\u001b[38;5;241;43m.\u001b[39;49m\u001b[43mappend\u001b[49m\u001b[43m(\u001b[49m\u001b[38;5;28;43mrange\u001b[39;49m\u001b[43m(\u001b[49m\u001b[38;5;241;43m5\u001b[39;49m\u001b[43m)\u001b[49m\u001b[43m)\u001b[49m\n",
      "\u001b[0;31mTypeError\u001b[0m: descriptor 'append' for 'list' objects doesn't apply to a 'range' object"
     ]
    }
   ],
   "source": [
    "myList = list.append(range(5))\n",
    "# this doesn't work - descriptor 'append' for 'list' objects doesn't apply to a 'range' object"
   ]
  },
  {
   "cell_type": "code",
   "execution_count": 20,
   "id": "5f5ae559",
   "metadata": {},
   "outputs": [
    {
     "name": "stdout",
     "output_type": "stream",
     "text": [
      "[0, 1, 2, 3, 4, 5, 6, 7, 8, 9]\n",
      "[1, 2, 3]\n"
     ]
    },
    {
     "data": {
      "text/plain": [
       "[0, 1, 2, 3, 4, 5, 6, 7, 8, 9, 1, 2, 3]"
      ]
     },
     "execution_count": 20,
     "metadata": {},
     "output_type": "execute_result"
    }
   ],
   "source": [
    "num = [1,2,3]\n",
    "print(myList)\n",
    "print(num)\n",
    "#Gotta use + instead\n",
    "myList + num"
   ]
  },
  {
   "cell_type": "markdown",
   "id": "b511cd5d",
   "metadata": {},
   "source": [
    "### Fun with tuples! (Not) ###"
   ]
  },
  {
   "cell_type": "code",
   "execution_count": 11,
   "id": "4724f3be",
   "metadata": {},
   "outputs": [
    {
     "name": "stdout",
     "output_type": "stream",
     "text": [
      "(1, 2, 3)\n"
     ]
    }
   ],
   "source": [
    "#tuples do not technically require parentheses to declare\n",
    "tup = 1, 2, 3\n",
    "print(tup)"
   ]
  },
  {
   "cell_type": "code",
   "execution_count": 9,
   "id": "d71424be",
   "metadata": {},
   "outputs": [
    {
     "data": {
      "text/plain": [
       "(1, 2, 3)"
      ]
     },
     "execution_count": 9,
     "metadata": {},
     "output_type": "execute_result"
    }
   ],
   "source": [
    "#However it's preferred to write them WITHOUT parentheses in return statements\n",
    "def returnMultipleValues():  #Why does this need a parentheses? --Invoking a function requires parentheses\n",
    "    return 1, 2, 3\n",
    "returnMultipleValues() #This returns the function\n"
   ]
  },
  {
   "cell_type": "code",
   "execution_count": 10,
   "id": "2784eb6c",
   "metadata": {},
   "outputs": [
    {
     "data": {
      "text/plain": [
       "<function __main__.returnMultipleValues()>"
      ]
     },
     "execution_count": 10,
     "metadata": {},
     "output_type": "execute_result"
    }
   ],
   "source": [
    "returnMultipleValues #But this just describes it"
   ]
  },
  {
   "cell_type": "code",
   "execution_count": 12,
   "id": "6cb2dfc2",
   "metadata": {},
   "outputs": [],
   "source": [
    "#Also, if you want to return multiple values as variables you can just do this:\n",
    "a, b, c = returnMultipleValues()"
   ]
  },
  {
   "cell_type": "code",
   "execution_count": 13,
   "id": "5951f525",
   "metadata": {},
   "outputs": [
    {
     "name": "stdout",
     "output_type": "stream",
     "text": [
      "1\n",
      "2\n",
      "3\n"
     ]
    }
   ],
   "source": [
    "#Check it out:\n",
    "print(a)\n",
    "print(b)\n",
    "print(c)"
   ]
  },
  {
   "cell_type": "markdown",
   "id": "128d8a38",
   "metadata": {},
   "source": [
    "Pretty cool right?"
   ]
  },
  {
   "cell_type": "markdown",
   "id": "348c1ea0",
   "metadata": {},
   "source": [
    "## List comprehensions ##"
   ]
  },
  {
   "cell_type": "code",
   "execution_count": 22,
   "id": "bcd22c43",
   "metadata": {},
   "outputs": [
    {
     "name": "stdout",
     "output_type": "stream",
     "text": [
      "[0, 10, 20, 30, 40, 50, 60, 70, 80, 90]\n"
     ]
    }
   ],
   "source": [
    "myList2 = list(range(100)) #original myList2 is all numbers 0-100\n",
    "filteredList = [item for item in myList2 \n",
    "                if item % 10 == 0] # This filters the list to only elements divisible by 10\n",
    "print(filteredList)"
   ]
  },
  {
   "cell_type": "markdown",
   "id": "31217acf",
   "metadata": {},
   "source": [
    "## List comprehension with functions ##"
   ]
  },
  {
   "cell_type": "code",
   "execution_count": 26,
   "id": "ef4da2c5",
   "metadata": {},
   "outputs": [
    {
     "data": {
      "text/plain": [
       "['My name is Alex', ' I live in VA', '']"
      ]
     },
     "execution_count": 26,
     "metadata": {},
     "output_type": "execute_result"
    }
   ],
   "source": [
    "sentence = 'My name is Alex. I live in VA.' #Do not invoke this as a list first or you get an error\n",
    "sentence.split('.')  #This will turn it into a list of two strings split by a period"
   ]
  },
  {
   "cell_type": "code",
   "execution_count": 27,
   "id": "5af05206",
   "metadata": {},
   "outputs": [
    {
     "data": {
      "text/plain": [
       "['My', 'name', 'is', 'Alex.', 'I', 'live', 'in', 'VA.']"
      ]
     },
     "execution_count": 27,
     "metadata": {},
     "output_type": "execute_result"
    }
   ],
   "source": [
    "sentence.split()  #will turn it into a list split by spaces (default)"
   ]
  },
  {
   "cell_type": "code",
   "execution_count": 39,
   "id": "efdbcba1",
   "metadata": {},
   "outputs": [
    {
     "data": {
      "text/plain": [
       "'my name is alex i live in va'"
      ]
     },
     "execution_count": 39,
     "metadata": {},
     "output_type": "execute_result"
    }
   ],
   "source": [
    "def cleanWord(word):\n",
    "    return word.replace('.', '').lower() #this creates a function that replaces the . and lowers the case of all words\n",
    "cleanWord(sentence)"
   ]
  },
  {
   "cell_type": "code",
   "execution_count": 37,
   "id": "34b2ac81",
   "metadata": {},
   "outputs": [
    {
     "data": {
      "text/plain": [
       "['m',\n",
       " 'y',\n",
       " ' ',\n",
       " 'n',\n",
       " 'a',\n",
       " 'm',\n",
       " 'e',\n",
       " ' ',\n",
       " 'i',\n",
       " 's',\n",
       " ' ',\n",
       " 'a',\n",
       " 'l',\n",
       " 'e',\n",
       " 'x',\n",
       " '',\n",
       " ' ',\n",
       " 'i',\n",
       " ' ',\n",
       " 'l',\n",
       " 'i',\n",
       " 'v',\n",
       " 'e',\n",
       " ' ',\n",
       " 'i',\n",
       " 'n',\n",
       " ' ',\n",
       " 'v',\n",
       " 'a',\n",
       " '']"
      ]
     },
     "execution_count": 37,
     "metadata": {},
     "output_type": "execute_result"
    }
   ],
   "source": [
    "[cleanWord(word) for word in sentence] #this makes a list of strings of every character for some reason (without [] it doesn't even work)"
   ]
  },
  {
   "cell_type": "code",
   "execution_count": 40,
   "id": "6bfc2ba2",
   "metadata": {},
   "outputs": [
    {
     "data": {
      "text/plain": [
       "['my', 'name', 'is', 'alex', 'i', 'live', 'in', 'va']"
      ]
     },
     "execution_count": 40,
     "metadata": {},
     "output_type": "execute_result"
    }
   ],
   "source": [
    "#Aha, figured it out. It was iterating over every single item without the split function\n",
    "[cleanWord(word) for word in sentence.split()] #This way it realizes each word is a separate item"
   ]
  },
  {
   "cell_type": "code",
   "execution_count": null,
   "id": "00a2e5fa",
   "metadata": {},
   "outputs": [],
   "source": []
  }
 ],
 "metadata": {
  "kernelspec": {
   "display_name": "Python 3 (ipykernel)",
   "language": "python",
   "name": "python3"
  },
  "language_info": {
   "codemirror_mode": {
    "name": "ipython",
    "version": 3
   },
   "file_extension": ".py",
   "mimetype": "text/x-python",
   "name": "python",
   "nbconvert_exporter": "python",
   "pygments_lexer": "ipython3",
   "version": "3.9.12"
  }
 },
 "nbformat": 4,
 "nbformat_minor": 5
}

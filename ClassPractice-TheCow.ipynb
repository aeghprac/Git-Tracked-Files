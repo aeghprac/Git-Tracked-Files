{
 "cells": [
  {
   "cell_type": "code",
   "execution_count": 2,
   "id": "ba23d2ad",
   "metadata": {},
   "outputs": [],
   "source": [
    "import sys"
   ]
  },
  {
   "cell_type": "code",
   "execution_count": 3,
   "id": "fdb28247",
   "metadata": {},
   "outputs": [
    {
     "data": {
      "text/plain": [
       "'3.9.12 (main, Apr  5 2022, 01:53:17) \\n[Clang 12.0.0 ]'"
      ]
     },
     "execution_count": 3,
     "metadata": {},
     "output_type": "execute_result"
    }
   ],
   "source": [
    "sys.version"
   ]
  },
  {
   "cell_type": "code",
   "execution_count": 167,
   "id": "70703b41",
   "metadata": {},
   "outputs": [],
   "source": [
    "class Cow():\n",
    "    \n",
    "    \"\"\"A bullshit class made to practice doing classes\"\"\"\n",
    "    \n",
    "    def __init__(self, breed, spots, value, sounds, price):\n",
    "        self.breed = breed\n",
    "        self.spots = spots\n",
    "        self.value = value\n",
    "        self.sounds = sounds\n",
    "        self.price = price\n",
    "    \n",
    "# Made to practice class methods\n",
    "    def makeSound(self):\n",
    "        if self.breed == 'Holstein':\n",
    "            print('Holsteins are generally pretty quiet.')\n",
    "        else:\n",
    "            x = input('What kind of sound does a cow make?\\n ')\n",
    "            return print(f'{x}? I hope to Christ you said {self.sounds}, because that\\'s what cows do.')\n",
    "    \n",
    "    def countSpots(self):\n",
    "        print(self.spots)\n",
    "    \n",
    "    @staticmethod\n",
    "    def nameAnimals(x): # Just seeing if it matters what you put as an arg (it doesn't)\n",
    "        if x == 1:\n",
    "            print('Holstein')\n",
    "    \n",
    "    def setDiscountInPercent(self, amount):\n",
    "        self._discount = amount/100 #_discount has an underscore because it's not defined in the cls attributes\n",
    "        \n",
    "    \n",
    "    def calcPrice(self, *args, quantity=1):\n",
    "        if hasattr(self, '_discount'):\n",
    "            cost = (quantity*self.price)*self._discount # Don't forget to do self._discount\n",
    "            return cost\n",
    "        else:\n",
    "            cost = (quantity*self.price)\n",
    "    \n",
    "    def doesACowLie(self):\n",
    "        print('Bullshit\\n\\n\\n\\nGet it?')\n",
    "        \n",
    "    # This actually works\n",
    "    def doACowBeLyin(): \n",
    "        print('I guess you don\\'t need the class variable')\n",
    "    "
   ]
  },
  {
   "cell_type": "code",
   "execution_count": 168,
   "id": "ea19f6a4",
   "metadata": {},
   "outputs": [],
   "source": [
    "holstein = Cow('Holstein', 0, 'Beef', 'Moo', 500)"
   ]
  },
  {
   "cell_type": "code",
   "execution_count": 162,
   "id": "d63d3eb6",
   "metadata": {},
   "outputs": [],
   "source": [
    "# This below will fail; can't only put one argument\n",
    "\n",
    "# dairy = Cow('dairy') "
   ]
  },
  {
   "cell_type": "code",
   "execution_count": 169,
   "id": "28718e91",
   "metadata": {},
   "outputs": [
    {
     "name": "stdout",
     "output_type": "stream",
     "text": [
      "Holstein 0 Beef Moo\n"
     ]
    }
   ],
   "source": [
    "print(holstein.breed, holstein.spots, holstein.value, holstein.sounds)"
   ]
  },
  {
   "cell_type": "code",
   "execution_count": 170,
   "id": "4bdacf55",
   "metadata": {},
   "outputs": [
    {
     "name": "stdout",
     "output_type": "stream",
     "text": [
      "Holsteins are generally pretty quiet.\n"
     ]
    }
   ],
   "source": [
    "holstein.makeSound()"
   ]
  },
  {
   "cell_type": "code",
   "execution_count": 171,
   "id": "c36f637f",
   "metadata": {},
   "outputs": [
    {
     "name": "stdout",
     "output_type": "stream",
     "text": [
      "0\n"
     ]
    }
   ],
   "source": [
    "Cow.countSpots(holstein)"
   ]
  },
  {
   "cell_type": "code",
   "execution_count": 46,
   "id": "735334e3",
   "metadata": {},
   "outputs": [],
   "source": [
    "Cow.nameAnimals(2)"
   ]
  },
  {
   "cell_type": "code",
   "execution_count": 145,
   "id": "0e8194cf",
   "metadata": {},
   "outputs": [],
   "source": [
    "Cow.setDiscountInPercent(holstein, 50)"
   ]
  },
  {
   "cell_type": "code",
   "execution_count": 143,
   "id": "a09e8aad",
   "metadata": {},
   "outputs": [
    {
     "data": {
      "text/plain": [
       "250.0"
      ]
     },
     "execution_count": 143,
     "metadata": {},
     "output_type": "execute_result"
    }
   ],
   "source": [
    "Cow.calcPrice(holstein)"
   ]
  },
  {
   "cell_type": "code",
   "execution_count": 151,
   "id": "cc73771f",
   "metadata": {},
   "outputs": [
    {
     "name": "stdout",
     "output_type": "stream",
     "text": [
      "Bullshit\n",
      "\n",
      "\n",
      "\n",
      "Get it?\n"
     ]
    }
   ],
   "source": [
    "Cow.doesACowLie(holstein)  # Have to put the variable"
   ]
  },
  {
   "cell_type": "code",
   "execution_count": 164,
   "id": "8759c269",
   "metadata": {},
   "outputs": [
    {
     "name": "stdout",
     "output_type": "stream",
     "text": [
      "I guess you don't need the class variable\n"
     ]
    }
   ],
   "source": [
    "Cow.doACowBeLyin()"
   ]
  },
  {
   "cell_type": "code",
   "execution_count": 178,
   "id": "c17f825f",
   "metadata": {},
   "outputs": [
    {
     "name": "stdout",
     "output_type": "stream",
     "text": [
      "True\n",
      "isinstance(tabby, Cow)) # will raise an error for obvious reasons\n",
      "True\n"
     ]
    }
   ],
   "source": [
    "print(isinstance(holstein, Cow))\n",
    "print('isinstance(tabby, Cow)) # will raise an error for obvious reasons')\n",
    "print(isinstance(holstein, object)) # everything in Python is an object, really"
   ]
  },
  {
   "cell_type": "code",
   "execution_count": null,
   "id": "98c71893",
   "metadata": {},
   "outputs": [],
   "source": []
  }
 ],
 "metadata": {
  "kernelspec": {
   "display_name": "Python 3 (ipykernel)",
   "language": "python",
   "name": "python3"
  },
  "language_info": {
   "codemirror_mode": {
    "name": "ipython",
    "version": 3
   },
   "file_extension": ".py",
   "mimetype": "text/x-python",
   "name": "python",
   "nbconvert_exporter": "python",
   "pygments_lexer": "ipython3",
   "version": "3.9.12"
  }
 },
 "nbformat": 4,
 "nbformat_minor": 5
}

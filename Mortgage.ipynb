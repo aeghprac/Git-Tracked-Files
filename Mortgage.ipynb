{
 "cells": [
  {
   "cell_type": "code",
   "execution_count": 1,
   "metadata": {},
   "outputs": [],
   "source": [
    "mortgage = 4227"
   ]
  },
  {
   "cell_type": "code",
   "execution_count": 2,
   "metadata": {},
   "outputs": [],
   "source": [
    "katie_sal = 70000\n",
    "alex_sal = 105000"
   ]
  },
  {
   "cell_type": "code",
   "execution_count": 3,
   "metadata": {},
   "outputs": [],
   "source": [
    "total_sal = katie_sal+alex_sal"
   ]
  },
  {
   "cell_type": "code",
   "execution_count": 10,
   "metadata": {},
   "outputs": [
    {
     "name": "stdout",
     "output_type": "stream",
     "text": [
      "0.4\n",
      "0.6\n"
     ]
    }
   ],
   "source": [
    "katie_pct = katie_sal/total_sal\n",
    "print(katie_pct)\n",
    "alex_pct = alex_sal/total_sal\n",
    "print(alex_pct)"
   ]
  },
  {
   "cell_type": "code",
   "execution_count": 8,
   "metadata": {},
   "outputs": [
    {
     "name": "stdout",
     "output_type": "stream",
     "text": [
      "Alex should pay $2536.2 and Katie should pay $1690.8 each month, which every two weeks would be $1268.1 and $845.4 respectively.\n"
     ]
    }
   ],
   "source": [
    "print(f\"Alex should pay ${round(mortgage*alex_pct,2)} and Katie should pay ${round(mortgage*katie_pct,2)} each month, which every two weeks would be ${round(mortgage*alex_pct/2,2)} and ${round(mortgage*katie_pct/2,2)} respectively.\")"
   ]
  },
  {
   "cell_type": "code",
   "execution_count": null,
   "metadata": {},
   "outputs": [],
   "source": []
  }
 ],
 "metadata": {
  "kernelspec": {
   "display_name": "base",
   "language": "python",
   "name": "python3"
  },
  "language_info": {
   "codemirror_mode": {
    "name": "ipython",
    "version": 3
   },
   "file_extension": ".py",
   "mimetype": "text/x-python",
   "name": "python",
   "nbconvert_exporter": "python",
   "pygments_lexer": "ipython3",
   "version": "3.9.15"
  },
  "orig_nbformat": 4,
  "vscode": {
   "interpreter": {
    "hash": "a345a3a79d4b6bd5e480ddf750d44eeab3f426a0af8a6d1a3c614a22f4e377a2"
   }
  }
 },
 "nbformat": 4,
 "nbformat_minor": 2
}

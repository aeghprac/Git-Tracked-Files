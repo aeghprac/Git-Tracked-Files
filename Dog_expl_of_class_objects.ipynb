{
 "cells": [
  {
   "cell_type": "code",
   "execution_count": 6,
   "id": "0899e9ee-f2f0-4441-8162-4ce22d4ea691",
   "metadata": {},
   "outputs": [],
   "source": [
    "class Dog:\n",
    "    def __init__(self, name):\n",
    "        self.name = name\n",
    "        self.legs = 4 #These are object attributes\n",
    "    \n",
    "    def speak(self):\n",
    "        print(self.name + ' says: Bark!') #These are the class methods "
   ]
  },
  {
   "cell_type": "code",
   "execution_count": 8,
   "id": "2650dcc6-b4fa-46ed-ba4f-6a224a94c179",
   "metadata": {},
   "outputs": [],
   "source": [
    "my_dog = Dog(\"Rover\")\n",
    "another_dog = Dog(\"Fido\")  #These two things are class instances, or objects"
   ]
  },
  {
   "cell_type": "code",
   "execution_count": 9,
   "id": "95455f75-b61a-4d9d-aa96-c561ca92a7eb",
   "metadata": {},
   "outputs": [
    {
     "name": "stdout",
     "output_type": "stream",
     "text": [
      "Rover says: Bark!\n"
     ]
    }
   ],
   "source": [
    "my_dog.speak()  #and when you use dot notation it acts like the instance was passed as the first variable of the function)"
   ]
  },
  {
   "cell_type": "code",
   "execution_count": 10,
   "id": "bf1bd5c9-c26c-4619-a838-297a7dd030f5",
   "metadata": {},
   "outputs": [
    {
     "name": "stdout",
     "output_type": "stream",
     "text": [
      "Fido says: Bark!\n"
     ]
    }
   ],
   "source": [
    "another_dog.speak()"
   ]
  },
  {
   "cell_type": "code",
   "execution_count": 11,
   "id": "97dc7902-8ed5-4234-967a-303bb0cb4bbc",
   "metadata": {},
   "outputs": [
    {
     "ename": "NameError",
     "evalue": "name 'speak' is not defined",
     "output_type": "error",
     "traceback": [
      "\u001b[1;31m---------------------------------------------------------------------------\u001b[0m",
      "\u001b[1;31mNameError\u001b[0m                                 Traceback (most recent call last)",
      "\u001b[1;32m~\\AppData\\Local\\Temp\\ipykernel_17680\\2786147487.py\u001b[0m in \u001b[0;36m<module>\u001b[1;34m\u001b[0m\n\u001b[1;32m----> 1\u001b[1;33m \u001b[0mspeak\u001b[0m\u001b[1;33m(\u001b[0m\u001b[0mmy_dog\u001b[0m\u001b[1;33m)\u001b[0m\u001b[1;33m\u001b[0m\u001b[1;33m\u001b[0m\u001b[0m\n\u001b[0m",
      "\u001b[1;31mNameError\u001b[0m: name 'speak' is not defined"
     ]
    }
   ],
   "source": [
    "speak(my_dog) #This will get an error - name 'speak' is not defined"
   ]
  },
  {
   "cell_type": "code",
   "execution_count": 12,
   "id": "f6d5326d-128c-47cb-b110-4ae6c230c4dd",
   "metadata": {},
   "outputs": [
    {
     "name": "stdout",
     "output_type": "stream",
     "text": [
      "Rover says: Bark!\n"
     ]
    }
   ],
   "source": [
    "Dog.speak(my_dog) #But this will run correctly"
   ]
  },
  {
   "cell_type": "code",
   "execution_count": null,
   "id": "feecd273-22c3-4d47-9722-5c9d9fc1ed0b",
   "metadata": {},
   "outputs": [],
   "source": []
  }
 ],
 "metadata": {
  "kernelspec": {
   "display_name": "Python 3 (ipykernel)",
   "language": "python",
   "name": "python3"
  },
  "language_info": {
   "codemirror_mode": {
    "name": "ipython",
    "version": 3
   },
   "file_extension": ".py",
   "mimetype": "text/x-python",
   "name": "python",
   "nbconvert_exporter": "python",
   "pygments_lexer": "ipython3",
   "version": "3.9.15"
  }
 },
 "nbformat": 4,
 "nbformat_minor": 5
}

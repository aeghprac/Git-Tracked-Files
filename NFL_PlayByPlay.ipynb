{
 "cells": [
  {
   "cell_type": "code",
   "execution_count": 1,
   "metadata": {},
   "outputs": [],
   "source": [
    "import sqlalchemy as SA\n",
    "import pyodbc\n",
    "import pandas as pd\n",
    "\n",
    "#TODO get this shit to work\n",
    "#TODO edit connection string"
   ]
  },
  {
   "cell_type": "code",
   "execution_count": null,
   "metadata": {},
   "outputs": [],
   "source": [
    "# Create a connection string\n",
    "connection_string = \"mssql+pyodbc:///?odbc_connect=DRIVER%3D%7BSQL+Server%7D%3BSERVER%3D<hostname>%3BDATABASE%3DNFLPlayByPlay2021%3BTrusted_Connection%3Dyes\"\n",
    "\n",
    "# Create an engine object\n",
    "engine = SA.create_engine(connection_string)\n",
    "\n",
    "# Load the data into a pandas dataframe\n",
    "df = pd.read_sql(\"SELECT * FROM play_by_play_2021\", engine)\n",
    "\n",
    "# Show the first 5 rows of the dataframe\n",
    "print(df.head())\n"
   ]
  }
 ],
 "metadata": {
  "kernelspec": {
   "display_name": "base",
   "language": "python",
   "name": "python3"
  },
  "language_info": {
   "codemirror_mode": {
    "name": "ipython",
    "version": 3
   },
   "file_extension": ".py",
   "mimetype": "text/x-python",
   "name": "python",
   "nbconvert_exporter": "python",
   "pygments_lexer": "ipython3",
   "version": "3.9.15"
  },
  "orig_nbformat": 4,
  "vscode": {
   "interpreter": {
    "hash": "a345a3a79d4b6bd5e480ddf750d44eeab3f426a0af8a6d1a3c614a22f4e377a2"
   }
  }
 },
 "nbformat": 4,
 "nbformat_minor": 2
}

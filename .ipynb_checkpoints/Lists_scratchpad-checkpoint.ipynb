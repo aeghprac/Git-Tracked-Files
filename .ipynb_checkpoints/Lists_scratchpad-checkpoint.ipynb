{
 "cells": [
  {
   "cell_type": "code",
   "execution_count": 1,
   "id": "790c9e31",
   "metadata": {},
   "outputs": [],
   "source": [
    "myList = list(range(10)) #uses range function and list to create a list"
   ]
  },
  {
   "cell_type": "code",
   "execution_count": 2,
   "id": "888c812a",
   "metadata": {},
   "outputs": [
    {
     "name": "stdout",
     "output_type": "stream",
     "text": [
      "[0, 1, 2, 3, 4, 5, 6, 7, 8, 9]\n"
     ]
    }
   ],
   "source": [
    "print(myList)"
   ]
  },
  {
   "cell_type": "code",
   "execution_count": 3,
   "id": "71345182",
   "metadata": {},
   "outputs": [
    {
     "data": {
      "text/plain": [
       "[0, 2, 4, 6, 8]"
      ]
     },
     "execution_count": 3,
     "metadata": {},
     "output_type": "execute_result"
    }
   ],
   "source": [
    "myList[::2] #returns every other number"
   ]
  },
  {
   "cell_type": "code",
   "execution_count": 4,
   "id": "bf354f55",
   "metadata": {},
   "outputs": [
    {
     "data": {
      "text/plain": [
       "[9, 7, 5, 3, 1]"
      ]
     },
     "execution_count": 4,
     "metadata": {},
     "output_type": "execute_result"
    }
   ],
   "source": [
    "myList[::-2] #goes backwards with negative number, but starts at second to last element"
   ]
  },
  {
   "cell_type": "code",
   "execution_count": 5,
   "id": "c97c6943",
   "metadata": {},
   "outputs": [],
   "source": [
    "# myList = list.append(range(5))\n",
    "# this doesn't work - descriptor 'append' for 'list' objects doesn't apply to a 'range' object"
   ]
  }
 ],
 "metadata": {
  "kernelspec": {
   "display_name": "Python 3 (ipykernel)",
   "language": "python",
   "name": "python3"
  },
  "language_info": {
   "codemirror_mode": {
    "name": "ipython",
    "version": 3
   },
   "file_extension": ".py",
   "mimetype": "text/x-python",
   "name": "python",
   "nbconvert_exporter": "python",
   "pygments_lexer": "ipython3",
   "version": "3.9.12"
  }
 },
 "nbformat": 4,
 "nbformat_minor": 5
}

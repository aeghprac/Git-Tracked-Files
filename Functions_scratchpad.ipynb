{
 "cells": [
  {
   "cell_type": "markdown",
   "metadata": {},
   "source": [
    "# Functions #"
   ]
  },
  {
   "cell_type": "code",
   "execution_count": 3,
   "metadata": {},
   "outputs": [
    {
     "name": "stdout",
     "output_type": "stream",
     "text": [
      "The Zen of Python, by Tim Peters\n",
      "\n",
      "Beautiful is better than ugly.\n",
      "Explicit is better than implicit.\n",
      "Simple is better than complex.\n",
      "Complex is better than complicated.\n",
      "Flat is better than nested.\n",
      "Sparse is better than dense.\n",
      "Readability counts.\n",
      "Special cases aren't special enough to break the rules.\n",
      "Although practicality beats purity.\n",
      "Errors should never pass silently.\n",
      "Unless explicitly silenced.\n",
      "In the face of ambiguity, refuse the temptation to guess.\n",
      "There should be one-- and preferably only one --obvious way to do it.\n",
      "Although that way may not be obvious at first unless you're Dutch.\n",
      "Now is better than never.\n",
      "Although never is often better than *right* now.\n",
      "If the implementation is hard to explain, it's a bad idea.\n",
      "If the implementation is easy to explain, it may be a good idea.\n",
      "Namespaces are one honking great idea -- let's do more of those!\n"
     ]
    }
   ],
   "source": [
    "import this"
   ]
  },
  {
   "cell_type": "code",
   "execution_count": 8,
   "metadata": {},
   "outputs": [],
   "source": [
    "zen = '''\n",
    "Beautiful is better than ugly.\n",
    "Explicit is better than implicit.\n",
    "Simple is better than complex.\n",
    "Complex is better than complicated.\n",
    "Flat is better than nested.\n",
    "Sparse is better than dense.\n",
    "Readability counts.\n",
    "Special cases aren't special enough to break the rules.\n",
    "Although practicality beats purity.\n",
    "Errors should never pass silently.\n",
    "Unless explicitly silenced.\n",
    "In the face of ambiguity, refuse the temptation to guess.\n",
    "There should be one-- and preferably only one --obvious way to do it.\n",
    "Although that way may not be obvious at first unless you're Dutch.\n",
    "Now is better than never.\n",
    "Although never is often better than *right* now.\n",
    "If the implementation is hard to explain, it's a bad idea.\n",
    "If the implementation is easy to explain, it may be a good idea.\n",
    "Namespaces are one honking great idea -- let's do more of those!\n",
    "'''"
   ]
  },
  {
   "cell_type": "code",
   "execution_count": 9,
   "metadata": {},
   "outputs": [
    {
     "name": "stdout",
     "output_type": "stream",
     "text": [
      "\n",
      "beautiful is better than ugly.\n",
      "explicit is better than implicit.\n",
      "simple is better than complex.\n",
      "complex is better than complicated.\n",
      "flat is better than nested.\n",
      "sparse is better than dense.\n",
      "readability counts.\n",
      "special cases aren't special enough to break the rules.\n",
      "although practicality beats purity.\n",
      "errors should never pass silently.\n",
      "unless explicitly silenced.\n",
      "in the face of ambiguity, refuse the temptation to guess.\n",
      "there should be one-- and preferably only one --obvious way to do it.\n",
      "although that way may not be obvious at first unless you're dutch.\n",
      "now is better than never.\n",
      "although never is often better than *right* now.\n",
      "if the implementation is hard to explain, it's a bad idea.\n",
      "if the implementation is easy to explain, it may be a good idea.\n",
      "namespaces are one honking great idea -- let's do more of those!\n",
      "\n"
     ]
    }
   ],
   "source": [
    "def lowercase(zen):\n",
    "    return zen.lower()\n",
    "\n",
    "print(zen.lower())"
   ]
  },
  {
   "cell_type": "code",
   "execution_count": 26,
   "metadata": {},
   "outputs": [],
   "source": [
    "# I started splitting these up because I had no idea what was going on when it wasn't working.\n",
    "def remPunc(zen):\n",
    "    marks = ['.', '-', ',', '*']\n",
    "    for punc in marks:\n",
    "        zen = zen.replace(punc, '')\n",
    "    return zen  # Make sure this \"return zen\" is NOT indented with the second part of the for loop. "
   ]
  },
  {
   "cell_type": "code",
   "execution_count": 27,
   "metadata": {},
   "outputs": [],
   "source": [
    "def removeNewLines(zen):\n",
    "    zen = zen.replace('\\n', ' ')\n",
    "    return zen\n",
    "\n",
    "def removeShortWords(zen):\n",
    "    return ' '.join([word for word in zen.split() if len(word) > 3])\n",
    "\n",
    "#This ^ confusing ass line right here takes every word in zen, makes it into its\n",
    "# own item in a list, then returns the string together split by the space at the beginning\n",
    "# return and ' ' are separate things, they look the same because the color is the same\n",
    "\n",
    "def removeLongWords(zen):\n",
    "    return ' '.join([word for word in zen.split() if len(word) < 6])\n"
   ]
  },
  {
   "cell_type": "code",
   "execution_count": 28,
   "metadata": {},
   "outputs": [
    {
     "name": "stdout",
     "output_type": "stream",
     "text": [
      "beautiful better than ugly explicit better than implicit simple better than complex complex better than complicated flat better than nested sparse better than dense readability counts special cases aren't special enough break rules although practicality beats purity errors should never pass silently unless explicitly silenced face ambiguity refuse temptation guess there should preferably only obvious although that obvious first unless you're dutch better than never although never often better than right implementation hard explain it's idea implementation easy explain good idea namespaces honking great idea let's more those!\n"
     ]
    }
   ],
   "source": [
    "processingFunctions = [lowercase, remPunc, removeNewLines, removeShortWords]\n",
    "\n",
    "for func in processingFunctions:\n",
    "    zen = func(zen)\n",
    "    \n",
    "print(zen)"
   ]
  },
  {
   "cell_type": "code",
   "execution_count": 29,
   "metadata": {},
   "outputs": [
    {
     "data": {
      "text/plain": [
       "str"
      ]
     },
     "execution_count": 29,
     "metadata": {},
     "output_type": "execute_result"
    }
   ],
   "source": [
    "type(zen)"
   ]
  },
  {
   "cell_type": "markdown",
   "metadata": {},
   "source": [
    "My internet was going in and out for a little bit, and it was telling me that zen was a \"NoneType\" for a while. This made me really wonder whether I was doing something wrong. Ugh. Onto lambda functions.\n",
    "\n",
    "## lambda functions ##"
   ]
  },
  {
   "cell_type": "code",
   "execution_count": 31,
   "metadata": {},
   "outputs": [
    {
     "data": {
      "text/plain": [
       "8"
      ]
     },
     "execution_count": 31,
     "metadata": {},
     "output_type": "execute_result"
    }
   ],
   "source": [
    "# If you want to have a function that you don't even need to name, you do this:\n",
    "(lambda x: x + 3)(5)"
   ]
  },
  {
   "cell_type": "code",
   "execution_count": 33,
   "metadata": {},
   "outputs": [
    {
     "data": {
      "text/plain": [
       "[{'num': 1}, {'num': 2}, {'num': 3}]"
      ]
     },
     "execution_count": 33,
     "metadata": {},
     "output_type": "execute_result"
    }
   ],
   "source": [
    "# Why the hell would you need to do use this? Well sometimes there's no \"obvious\" way to sort something.\n",
    "myList = [{'num': 3}, {'num': 2}, {'num': 1}]\n",
    "# sorted(myList)\n",
    "# ^ This fails because you can't sort a dictionary\n",
    "sorted(myList, key = lambda x: x['num'])  # This tells python to use the values to sort the dictionary"
   ]
  },
  {
   "cell_type": "markdown",
   "metadata": {},
   "source": [
    " This can be a great way to write minifunctions as parts of your code. "
   ]
  },
  {
   "cell_type": "code",
   "execution_count": null,
   "metadata": {},
   "outputs": [],
   "source": []
  }
 ],
 "metadata": {
  "kernelspec": {
   "display_name": "Python 3 (ipykernel)",
   "language": "python",
   "name": "python3"
  },
  "language_info": {
   "codemirror_mode": {
    "name": "ipython",
    "version": 3
   },
   "file_extension": ".py",
   "mimetype": "text/x-python",
   "name": "python",
   "nbconvert_exporter": "python",
   "pygments_lexer": "ipython3",
   "version": "3.9.15"
  },
  "vscode": {
   "interpreter": {
    "hash": "a345a3a79d4b6bd5e480ddf750d44eeab3f426a0af8a6d1a3c614a22f4e377a2"
   }
  }
 },
 "nbformat": 4,
 "nbformat_minor": 2
}
